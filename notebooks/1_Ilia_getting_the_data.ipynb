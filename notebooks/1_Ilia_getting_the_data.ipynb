{
  "nbformat": 4,
  "nbformat_minor": 0,
  "metadata": {
    "colab": {
      "name": "Spotify API.ipynb",
      "provenance": [],
      "collapsed_sections": [],
      "mount_file_id": "1r0bqnc9AZH9VDZK_-l7kAf4tGvuiQetj",
      "authorship_tag": "ABX9TyPNh+XdxHuR1rmPxynI88zn",
      "include_colab_link": true
    },
    "kernelspec": {
      "name": "python3",
      "display_name": "Python 3"
    },
    "language_info": {
      "name": "python"
    }
  },
  "cells": [
    {
      "cell_type": "markdown",
      "metadata": {
        "id": "view-in-github",
        "colab_type": "text"
      },
      "source": [
        "<a href=\"https://colab.research.google.com/github/IliaAltmark/spotify_classification/blob/main/jupyter_notebooks/Spotify_API.ipynb\" target=\"_parent\"><img src=\"https://colab.research.google.com/assets/colab-badge.svg\" alt=\"Open In Colab\"/></a>"
      ]
    },
    {
      "cell_type": "markdown",
      "source": [
        "# 1. Setting Up"
      ],
      "metadata": {
        "id": "-a2UeOfaXet_"
      }
    },
    {
      "cell_type": "code",
      "source": [
        "!pip install spotipy"
      ],
      "metadata": {
        "colab": {
          "base_uri": "https://localhost:8080/"
        },
        "id": "awmiwvhwHSjz",
        "outputId": "7dc995da-a2fc-4a76-c629-4bff0c53b003"
      },
      "execution_count": null,
      "outputs": [
        {
          "output_type": "stream",
          "name": "stdout",
          "text": [
            "Collecting spotipy\n",
            "  Downloading spotipy-2.19.0-py3-none-any.whl (27 kB)\n",
            "Collecting urllib3>=1.26.0\n",
            "  Downloading urllib3-1.26.9-py2.py3-none-any.whl (138 kB)\n",
            "\u001b[K     |████████████████████████████████| 138 kB 7.5 MB/s \n",
            "\u001b[?25hCollecting requests>=2.25.0\n",
            "  Downloading requests-2.27.1-py2.py3-none-any.whl (63 kB)\n",
            "\u001b[K     |████████████████████████████████| 63 kB 1.1 MB/s \n",
            "\u001b[?25hRequirement already satisfied: six>=1.15.0 in /usr/local/lib/python3.7/dist-packages (from spotipy) (1.15.0)\n",
            "Requirement already satisfied: charset-normalizer~=2.0.0 in /usr/local/lib/python3.7/dist-packages (from requests>=2.25.0->spotipy) (2.0.12)\n",
            "Requirement already satisfied: idna<4,>=2.5 in /usr/local/lib/python3.7/dist-packages (from requests>=2.25.0->spotipy) (2.10)\n",
            "Requirement already satisfied: certifi>=2017.4.17 in /usr/local/lib/python3.7/dist-packages (from requests>=2.25.0->spotipy) (2021.10.8)\n",
            "Installing collected packages: urllib3, requests, spotipy\n",
            "  Attempting uninstall: urllib3\n",
            "    Found existing installation: urllib3 1.24.3\n",
            "    Uninstalling urllib3-1.24.3:\n",
            "      Successfully uninstalled urllib3-1.24.3\n",
            "  Attempting uninstall: requests\n",
            "    Found existing installation: requests 2.23.0\n",
            "    Uninstalling requests-2.23.0:\n",
            "      Successfully uninstalled requests-2.23.0\n",
            "\u001b[31mERROR: pip's dependency resolver does not currently take into account all the packages that are installed. This behaviour is the source of the following dependency conflicts.\n",
            "google-colab 1.0.0 requires requests~=2.23.0, but you have requests 2.27.1 which is incompatible.\n",
            "datascience 0.10.6 requires folium==0.2.1, but you have folium 0.8.3 which is incompatible.\u001b[0m\n",
            "Successfully installed requests-2.27.1 spotipy-2.19.0 urllib3-1.26.9\n"
          ]
        }
      ]
    },
    {
      "cell_type": "code",
      "execution_count": null,
      "metadata": {
        "id": "iQr_hAZtG-E2"
      },
      "outputs": [],
      "source": [
        "import spotipy\n",
        "from spotipy.oauth2 import SpotifyClientCredentials\n",
        "\n",
        "cid = \"d2388538505141f7b0592d42b191e537\" \n",
        "secret = \"02a9e5c22e594342862a1d0a4a024964\"\n",
        "\n",
        "client_credentials_manager = SpotifyClientCredentials(client_id=cid, client_secret=secret)\n",
        "sp = spotipy.Spotify(client_credentials_manager=client_credentials_manager)"
      ]
    },
    {
      "cell_type": "markdown",
      "source": [
        "# 2. Get the Track ID Data"
      ],
      "metadata": {
        "id": "GhPKhT52Xhr0"
      }
    },
    {
      "cell_type": "code",
      "source": [
        "# timeit library to measure the time needed to run this code\n",
        "import timeit\n",
        "start = timeit.default_timer()\n",
        "\n",
        "# create empty lists where the results are going to be stored\n",
        "artist_name = []\n",
        "track_name = []\n",
        "popularity = []\n",
        "track_id = []\n",
        "\n",
        "for year in range(2012,2022):\n",
        "\n",
        "  for i in range(0,1000,50):\n",
        "      track_results = sp.search(q=f'year:{year} genre:techno', type='track', limit=50,offset=i)\n",
        "      for i, t in enumerate(track_results['tracks']['items']):\n",
        "          artist_name.append(t['artists'][0]['name'])\n",
        "          track_name.append(t['name'])\n",
        "          track_id.append(t['id'])\n",
        "          popularity.append(t['popularity'])\n",
        "      \n",
        "\n",
        "stop = timeit.default_timer()\n",
        "print ('Time to run this code (in seconds):', stop - start)"
      ],
      "metadata": {
        "colab": {
          "base_uri": "https://localhost:8080/"
        },
        "id": "F6exB33nHOfu",
        "outputId": "892fccf2-6f68-4b37-a81c-46a61a38c5bb"
      },
      "execution_count": null,
      "outputs": [
        {
          "output_type": "stream",
          "name": "stdout",
          "text": [
            "Time to run this code (in seconds): 50.614583683999996\n"
          ]
        }
      ]
    },
    {
      "cell_type": "markdown",
      "source": [
        "# 3. EDA + Data Preparation"
      ],
      "metadata": {
        "id": "VA_75eyCXZW8"
      }
    },
    {
      "cell_type": "code",
      "source": [
        "print('number of elements in the track_id list:', len(track_id))"
      ],
      "metadata": {
        "colab": {
          "base_uri": "https://localhost:8080/"
        },
        "id": "4DCnDu91XVXI",
        "outputId": "a1489edc-9092-4998-a07e-aa606509bea7"
      },
      "execution_count": null,
      "outputs": [
        {
          "output_type": "stream",
          "name": "stdout",
          "text": [
            "number of elements in the track_id list: 10000\n"
          ]
        }
      ]
    },
    {
      "cell_type": "code",
      "source": [
        "import pandas as pd\n",
        "\n",
        "df_tracks = pd.DataFrame({'artist_name':artist_name,'track_name':track_name,'track_id':track_id,'popularity':popularity})\n",
        "print(df_tracks.shape)\n",
        "df_tracks.head()"
      ],
      "metadata": {
        "colab": {
          "base_uri": "https://localhost:8080/",
          "height": 224
        },
        "id": "2oWUwESLXqGV",
        "outputId": "d917c836-64c9-4a2c-9e23-3c4b060d8e8a"
      },
      "execution_count": null,
      "outputs": [
        {
          "output_type": "stream",
          "name": "stdout",
          "text": [
            "(10000, 4)\n"
          ]
        },
        {
          "output_type": "execute_result",
          "data": {
            "text/plain": [
              "  artist_name                                         track_name  \\\n",
              "0        Zedd                                            Clarity   \n",
              "1        Zedd  Stay The Night - Featuring Hayley Williams Of ...   \n",
              "2        Zedd                                           Spectrum   \n",
              "3        Zedd                                        Lost At Sea   \n",
              "4        Noir                               Around - Solomun Vox   \n",
              "\n",
              "                 track_id  popularity  \n",
              "0  60wwxj6Dd9NJlirf84wr2c          74  \n",
              "1  2QtJA4gbwe1AcanB2p21aP          63  \n",
              "2  1dFkD1JfRMzwO6hwUsE8aS          59  \n",
              "3  3Gwq0zKnMWluOEPKh93BeC          47  \n",
              "4  5qA35ZZWFOqynheP5x8rty          56  "
            ],
            "text/html": [
              "\n",
              "  <div id=\"df-6d72e76f-64f2-48f3-9e02-43101655aa3b\">\n",
              "    <div class=\"colab-df-container\">\n",
              "      <div>\n",
              "<style scoped>\n",
              "    .dataframe tbody tr th:only-of-type {\n",
              "        vertical-align: middle;\n",
              "    }\n",
              "\n",
              "    .dataframe tbody tr th {\n",
              "        vertical-align: top;\n",
              "    }\n",
              "\n",
              "    .dataframe thead th {\n",
              "        text-align: right;\n",
              "    }\n",
              "</style>\n",
              "<table border=\"1\" class=\"dataframe\">\n",
              "  <thead>\n",
              "    <tr style=\"text-align: right;\">\n",
              "      <th></th>\n",
              "      <th>artist_name</th>\n",
              "      <th>track_name</th>\n",
              "      <th>track_id</th>\n",
              "      <th>popularity</th>\n",
              "    </tr>\n",
              "  </thead>\n",
              "  <tbody>\n",
              "    <tr>\n",
              "      <th>0</th>\n",
              "      <td>Zedd</td>\n",
              "      <td>Clarity</td>\n",
              "      <td>60wwxj6Dd9NJlirf84wr2c</td>\n",
              "      <td>74</td>\n",
              "    </tr>\n",
              "    <tr>\n",
              "      <th>1</th>\n",
              "      <td>Zedd</td>\n",
              "      <td>Stay The Night - Featuring Hayley Williams Of ...</td>\n",
              "      <td>2QtJA4gbwe1AcanB2p21aP</td>\n",
              "      <td>63</td>\n",
              "    </tr>\n",
              "    <tr>\n",
              "      <th>2</th>\n",
              "      <td>Zedd</td>\n",
              "      <td>Spectrum</td>\n",
              "      <td>1dFkD1JfRMzwO6hwUsE8aS</td>\n",
              "      <td>59</td>\n",
              "    </tr>\n",
              "    <tr>\n",
              "      <th>3</th>\n",
              "      <td>Zedd</td>\n",
              "      <td>Lost At Sea</td>\n",
              "      <td>3Gwq0zKnMWluOEPKh93BeC</td>\n",
              "      <td>47</td>\n",
              "    </tr>\n",
              "    <tr>\n",
              "      <th>4</th>\n",
              "      <td>Noir</td>\n",
              "      <td>Around - Solomun Vox</td>\n",
              "      <td>5qA35ZZWFOqynheP5x8rty</td>\n",
              "      <td>56</td>\n",
              "    </tr>\n",
              "  </tbody>\n",
              "</table>\n",
              "</div>\n",
              "      <button class=\"colab-df-convert\" onclick=\"convertToInteractive('df-6d72e76f-64f2-48f3-9e02-43101655aa3b')\"\n",
              "              title=\"Convert this dataframe to an interactive table.\"\n",
              "              style=\"display:none;\">\n",
              "        \n",
              "  <svg xmlns=\"http://www.w3.org/2000/svg\" height=\"24px\"viewBox=\"0 0 24 24\"\n",
              "       width=\"24px\">\n",
              "    <path d=\"M0 0h24v24H0V0z\" fill=\"none\"/>\n",
              "    <path d=\"M18.56 5.44l.94 2.06.94-2.06 2.06-.94-2.06-.94-.94-2.06-.94 2.06-2.06.94zm-11 1L8.5 8.5l.94-2.06 2.06-.94-2.06-.94L8.5 2.5l-.94 2.06-2.06.94zm10 10l.94 2.06.94-2.06 2.06-.94-2.06-.94-.94-2.06-.94 2.06-2.06.94z\"/><path d=\"M17.41 7.96l-1.37-1.37c-.4-.4-.92-.59-1.43-.59-.52 0-1.04.2-1.43.59L10.3 9.45l-7.72 7.72c-.78.78-.78 2.05 0 2.83L4 21.41c.39.39.9.59 1.41.59.51 0 1.02-.2 1.41-.59l7.78-7.78 2.81-2.81c.8-.78.8-2.07 0-2.86zM5.41 20L4 18.59l7.72-7.72 1.47 1.35L5.41 20z\"/>\n",
              "  </svg>\n",
              "      </button>\n",
              "      \n",
              "  <style>\n",
              "    .colab-df-container {\n",
              "      display:flex;\n",
              "      flex-wrap:wrap;\n",
              "      gap: 12px;\n",
              "    }\n",
              "\n",
              "    .colab-df-convert {\n",
              "      background-color: #E8F0FE;\n",
              "      border: none;\n",
              "      border-radius: 50%;\n",
              "      cursor: pointer;\n",
              "      display: none;\n",
              "      fill: #1967D2;\n",
              "      height: 32px;\n",
              "      padding: 0 0 0 0;\n",
              "      width: 32px;\n",
              "    }\n",
              "\n",
              "    .colab-df-convert:hover {\n",
              "      background-color: #E2EBFA;\n",
              "      box-shadow: 0px 1px 2px rgba(60, 64, 67, 0.3), 0px 1px 3px 1px rgba(60, 64, 67, 0.15);\n",
              "      fill: #174EA6;\n",
              "    }\n",
              "\n",
              "    [theme=dark] .colab-df-convert {\n",
              "      background-color: #3B4455;\n",
              "      fill: #D2E3FC;\n",
              "    }\n",
              "\n",
              "    [theme=dark] .colab-df-convert:hover {\n",
              "      background-color: #434B5C;\n",
              "      box-shadow: 0px 1px 3px 1px rgba(0, 0, 0, 0.15);\n",
              "      filter: drop-shadow(0px 1px 2px rgba(0, 0, 0, 0.3));\n",
              "      fill: #FFFFFF;\n",
              "    }\n",
              "  </style>\n",
              "\n",
              "      <script>\n",
              "        const buttonEl =\n",
              "          document.querySelector('#df-6d72e76f-64f2-48f3-9e02-43101655aa3b button.colab-df-convert');\n",
              "        buttonEl.style.display =\n",
              "          google.colab.kernel.accessAllowed ? 'block' : 'none';\n",
              "\n",
              "        async function convertToInteractive(key) {\n",
              "          const element = document.querySelector('#df-6d72e76f-64f2-48f3-9e02-43101655aa3b');\n",
              "          const dataTable =\n",
              "            await google.colab.kernel.invokeFunction('convertToInteractive',\n",
              "                                                     [key], {});\n",
              "          if (!dataTable) return;\n",
              "\n",
              "          const docLinkHtml = 'Like what you see? Visit the ' +\n",
              "            '<a target=\"_blank\" href=https://colab.research.google.com/notebooks/data_table.ipynb>data table notebook</a>'\n",
              "            + ' to learn more about interactive tables.';\n",
              "          element.innerHTML = '';\n",
              "          dataTable['output_type'] = 'display_data';\n",
              "          await google.colab.output.renderOutput(dataTable, element);\n",
              "          const docLink = document.createElement('div');\n",
              "          docLink.innerHTML = docLinkHtml;\n",
              "          element.appendChild(docLink);\n",
              "        }\n",
              "      </script>\n",
              "    </div>\n",
              "  </div>\n",
              "  "
            ]
          },
          "metadata": {},
          "execution_count": 5
        }
      ]
    },
    {
      "cell_type": "code",
      "source": [
        "df_tracks.info()"
      ],
      "metadata": {
        "colab": {
          "base_uri": "https://localhost:8080/"
        },
        "id": "aeTJpYIyXqrO",
        "outputId": "4540f656-7a34-4063-9671-7ccf7eb73b05"
      },
      "execution_count": null,
      "outputs": [
        {
          "output_type": "stream",
          "name": "stdout",
          "text": [
            "<class 'pandas.core.frame.DataFrame'>\n",
            "RangeIndex: 10000 entries, 0 to 9999\n",
            "Data columns (total 4 columns):\n",
            " #   Column       Non-Null Count  Dtype \n",
            "---  ------       --------------  ----- \n",
            " 0   artist_name  10000 non-null  object\n",
            " 1   track_name   10000 non-null  object\n",
            " 2   track_id     10000 non-null  object\n",
            " 3   popularity   10000 non-null  int64 \n",
            "dtypes: int64(1), object(3)\n",
            "memory usage: 312.6+ KB\n"
          ]
        }
      ]
    },
    {
      "cell_type": "code",
      "source": [
        "# group the entries by artist_name and track_name and check for duplicates\n",
        "\n",
        "grouped = df_tracks.groupby(['artist_name','track_name'], as_index=True).size()\n",
        "grouped[grouped > 1].count()"
      ],
      "metadata": {
        "colab": {
          "base_uri": "https://localhost:8080/"
        },
        "id": "X2q23JnzvA7Y",
        "outputId": "73cebb65-6984-4408-de66-6209b965d9cf"
      },
      "execution_count": null,
      "outputs": [
        {
          "output_type": "execute_result",
          "data": {
            "text/plain": [
              "410"
            ]
          },
          "metadata": {},
          "execution_count": 7
        }
      ]
    },
    {
      "cell_type": "code",
      "source": [
        "df_tracks.drop_duplicates(subset=['artist_name','track_name'], inplace=True)"
      ],
      "metadata": {
        "id": "XFydxd9jvRB_"
      },
      "execution_count": null,
      "outputs": []
    },
    {
      "cell_type": "code",
      "source": [
        "# doing the same grouping as before to verify the solution\n",
        "grouped_after_dropping = df_tracks.groupby(['artist_name','track_name'], as_index=True).size()\n",
        "grouped_after_dropping[grouped_after_dropping > 1].count()"
      ],
      "metadata": {
        "colab": {
          "base_uri": "https://localhost:8080/"
        },
        "id": "utmBV_lMvXHm",
        "outputId": "b92110f3-4b62-4d8a-bda2-2b1e1d9fb470"
      },
      "execution_count": null,
      "outputs": [
        {
          "output_type": "execute_result",
          "data": {
            "text/plain": [
              "0"
            ]
          },
          "metadata": {},
          "execution_count": 9
        }
      ]
    },
    {
      "cell_type": "code",
      "source": [
        "df_tracks[df_tracks.duplicated(subset=['artist_name','track_name'],keep=False)].count()\n"
      ],
      "metadata": {
        "colab": {
          "base_uri": "https://localhost:8080/"
        },
        "id": "aI7caBumvZZX",
        "outputId": "6b9dda74-3e9f-4801-d2f4-2a1fbecd5b8b"
      },
      "execution_count": null,
      "outputs": [
        {
          "output_type": "execute_result",
          "data": {
            "text/plain": [
              "artist_name    0\n",
              "track_name     0\n",
              "track_id       0\n",
              "popularity     0\n",
              "dtype: int64"
            ]
          },
          "metadata": {},
          "execution_count": 10
        }
      ]
    },
    {
      "cell_type": "code",
      "source": [
        "df_tracks.shape"
      ],
      "metadata": {
        "colab": {
          "base_uri": "https://localhost:8080/"
        },
        "id": "Fq3B28tUvnhn",
        "outputId": "2a347b37-b1db-4a2a-9c1c-ac08724441d4"
      },
      "execution_count": null,
      "outputs": [
        {
          "output_type": "execute_result",
          "data": {
            "text/plain": [
              "(9547, 4)"
            ]
          },
          "metadata": {},
          "execution_count": 11
        }
      ]
    },
    {
      "cell_type": "markdown",
      "source": [
        "# 4: Get the Audio Features Data"
      ],
      "metadata": {
        "id": "54DoIvWWvvUE"
      }
    },
    {
      "cell_type": "code",
      "source": [
        "# again measuring the time\n",
        "start = timeit.default_timer()\n",
        "\n",
        "# empty list, batchsize and the counter for None results\n",
        "rows = []\n",
        "batchsize = 100\n",
        "None_counter = 0\n",
        "\n",
        "for i in range(0,len(df_tracks['track_id']),batchsize):\n",
        "    batch = df_tracks['track_id'][i:i+batchsize]\n",
        "    feature_results = sp.audio_features(batch)\n",
        "    for i, t in enumerate(feature_results):\n",
        "        if t == None:\n",
        "            None_counter = None_counter + 1\n",
        "        else:\n",
        "            rows.append(t)\n",
        "            \n",
        "print('Number of tracks where no audio features were available:',None_counter)\n",
        "\n",
        "stop = timeit.default_timer()\n",
        "print ('Time to run this code (in seconds):',stop - start)"
      ],
      "metadata": {
        "colab": {
          "base_uri": "https://localhost:8080/"
        },
        "id": "oRbVgVTHvsOI",
        "outputId": "85c70bd7-15d3-453a-f7cc-e8aa4c5b93a3"
      },
      "execution_count": null,
      "outputs": [
        {
          "output_type": "stream",
          "name": "stdout",
          "text": [
            "Number of tracks where no audio features were available: 0\n",
            "Time to run this code (in seconds): 18.810437000999997\n"
          ]
        }
      ]
    },
    {
      "cell_type": "markdown",
      "source": [
        "# 5. EDA + Data Preparation"
      ],
      "metadata": {
        "id": "rvn3_l6Jw7YS"
      }
    },
    {
      "cell_type": "code",
      "source": [
        "print('number of elements in the track_id list:', len(rows))"
      ],
      "metadata": {
        "colab": {
          "base_uri": "https://localhost:8080/"
        },
        "id": "6hg60xbbwYw4",
        "outputId": "220506e3-f666-4be1-9c8e-2bfd3c40a764"
      },
      "execution_count": null,
      "outputs": [
        {
          "output_type": "stream",
          "name": "stdout",
          "text": [
            "number of elements in the track_id list: 9547\n"
          ]
        }
      ]
    },
    {
      "cell_type": "code",
      "source": [
        "df_audio_features = pd.DataFrame.from_dict(rows,orient='columns')\n",
        "print(\"Shape of the dataset:\", df_audio_features.shape)\n",
        "df_audio_features.head()"
      ],
      "metadata": {
        "colab": {
          "base_uri": "https://localhost:8080/",
          "height": 374
        },
        "id": "nWqywe49w-sQ",
        "outputId": "bd5bcba6-ea80-4cee-b75e-5babcde5fcfd"
      },
      "execution_count": null,
      "outputs": [
        {
          "output_type": "stream",
          "name": "stdout",
          "text": [
            "Shape of the dataset: (9547, 18)\n"
          ]
        },
        {
          "output_type": "execute_result",
          "data": {
            "text/plain": [
              "   danceability  energy  key  loudness  mode  speechiness  acousticness  \\\n",
              "0         0.509   0.781    8    -3.480     1       0.0720        0.0398   \n",
              "1         0.596   0.738    8    -3.109     1       0.0411        0.1090   \n",
              "2         0.609   0.801    0    -4.417     0       0.0340        0.0137   \n",
              "3         0.567   0.796    6    -3.534     1       0.0364        0.0247   \n",
              "4         0.867   0.345    1   -11.042     1       0.0768        0.0212   \n",
              "\n",
              "   instrumentalness  liveness  valence    tempo            type  \\\n",
              "0           0.00000    0.0749    0.176  128.000  audio_features   \n",
              "1           0.00000    0.0947    0.461  127.961  audio_features   \n",
              "2           0.00349    0.1270    0.407  129.990  audio_features   \n",
              "3           0.00000    0.1240    0.305  127.983  audio_features   \n",
              "4           0.66600    0.1030    0.259  115.000  audio_features   \n",
              "\n",
              "                       id                                   uri  \\\n",
              "0  60wwxj6Dd9NJlirf84wr2c  spotify:track:60wwxj6Dd9NJlirf84wr2c   \n",
              "1  2QtJA4gbwe1AcanB2p21aP  spotify:track:2QtJA4gbwe1AcanB2p21aP   \n",
              "2  1dFkD1JfRMzwO6hwUsE8aS  spotify:track:1dFkD1JfRMzwO6hwUsE8aS   \n",
              "3  3Gwq0zKnMWluOEPKh93BeC  spotify:track:3Gwq0zKnMWluOEPKh93BeC   \n",
              "4  5qA35ZZWFOqynheP5x8rty  spotify:track:5qA35ZZWFOqynheP5x8rty   \n",
              "\n",
              "                                          track_href  \\\n",
              "0  https://api.spotify.com/v1/tracks/60wwxj6Dd9NJ...   \n",
              "1  https://api.spotify.com/v1/tracks/2QtJA4gbwe1A...   \n",
              "2  https://api.spotify.com/v1/tracks/1dFkD1JfRMzw...   \n",
              "3  https://api.spotify.com/v1/tracks/3Gwq0zKnMWlu...   \n",
              "4  https://api.spotify.com/v1/tracks/5qA35ZZWFOqy...   \n",
              "\n",
              "                                        analysis_url  duration_ms  \\\n",
              "0  https://api.spotify.com/v1/audio-analysis/60ww...       271427   \n",
              "1  https://api.spotify.com/v1/audio-analysis/2QtJ...       217347   \n",
              "2  https://api.spotify.com/v1/audio-analysis/1dFk...       243413   \n",
              "3  https://api.spotify.com/v1/audio-analysis/3Gwq...       225840   \n",
              "4  https://api.spotify.com/v1/audio-analysis/5qA3...       418594   \n",
              "\n",
              "   time_signature  \n",
              "0               4  \n",
              "1               4  \n",
              "2               4  \n",
              "3               4  \n",
              "4               4  "
            ],
            "text/html": [
              "\n",
              "  <div id=\"df-38e3cf28-bac8-46f4-bb91-ddbc945eb2c8\">\n",
              "    <div class=\"colab-df-container\">\n",
              "      <div>\n",
              "<style scoped>\n",
              "    .dataframe tbody tr th:only-of-type {\n",
              "        vertical-align: middle;\n",
              "    }\n",
              "\n",
              "    .dataframe tbody tr th {\n",
              "        vertical-align: top;\n",
              "    }\n",
              "\n",
              "    .dataframe thead th {\n",
              "        text-align: right;\n",
              "    }\n",
              "</style>\n",
              "<table border=\"1\" class=\"dataframe\">\n",
              "  <thead>\n",
              "    <tr style=\"text-align: right;\">\n",
              "      <th></th>\n",
              "      <th>danceability</th>\n",
              "      <th>energy</th>\n",
              "      <th>key</th>\n",
              "      <th>loudness</th>\n",
              "      <th>mode</th>\n",
              "      <th>speechiness</th>\n",
              "      <th>acousticness</th>\n",
              "      <th>instrumentalness</th>\n",
              "      <th>liveness</th>\n",
              "      <th>valence</th>\n",
              "      <th>tempo</th>\n",
              "      <th>type</th>\n",
              "      <th>id</th>\n",
              "      <th>uri</th>\n",
              "      <th>track_href</th>\n",
              "      <th>analysis_url</th>\n",
              "      <th>duration_ms</th>\n",
              "      <th>time_signature</th>\n",
              "    </tr>\n",
              "  </thead>\n",
              "  <tbody>\n",
              "    <tr>\n",
              "      <th>0</th>\n",
              "      <td>0.509</td>\n",
              "      <td>0.781</td>\n",
              "      <td>8</td>\n",
              "      <td>-3.480</td>\n",
              "      <td>1</td>\n",
              "      <td>0.0720</td>\n",
              "      <td>0.0398</td>\n",
              "      <td>0.00000</td>\n",
              "      <td>0.0749</td>\n",
              "      <td>0.176</td>\n",
              "      <td>128.000</td>\n",
              "      <td>audio_features</td>\n",
              "      <td>60wwxj6Dd9NJlirf84wr2c</td>\n",
              "      <td>spotify:track:60wwxj6Dd9NJlirf84wr2c</td>\n",
              "      <td>https://api.spotify.com/v1/tracks/60wwxj6Dd9NJ...</td>\n",
              "      <td>https://api.spotify.com/v1/audio-analysis/60ww...</td>\n",
              "      <td>271427</td>\n",
              "      <td>4</td>\n",
              "    </tr>\n",
              "    <tr>\n",
              "      <th>1</th>\n",
              "      <td>0.596</td>\n",
              "      <td>0.738</td>\n",
              "      <td>8</td>\n",
              "      <td>-3.109</td>\n",
              "      <td>1</td>\n",
              "      <td>0.0411</td>\n",
              "      <td>0.1090</td>\n",
              "      <td>0.00000</td>\n",
              "      <td>0.0947</td>\n",
              "      <td>0.461</td>\n",
              "      <td>127.961</td>\n",
              "      <td>audio_features</td>\n",
              "      <td>2QtJA4gbwe1AcanB2p21aP</td>\n",
              "      <td>spotify:track:2QtJA4gbwe1AcanB2p21aP</td>\n",
              "      <td>https://api.spotify.com/v1/tracks/2QtJA4gbwe1A...</td>\n",
              "      <td>https://api.spotify.com/v1/audio-analysis/2QtJ...</td>\n",
              "      <td>217347</td>\n",
              "      <td>4</td>\n",
              "    </tr>\n",
              "    <tr>\n",
              "      <th>2</th>\n",
              "      <td>0.609</td>\n",
              "      <td>0.801</td>\n",
              "      <td>0</td>\n",
              "      <td>-4.417</td>\n",
              "      <td>0</td>\n",
              "      <td>0.0340</td>\n",
              "      <td>0.0137</td>\n",
              "      <td>0.00349</td>\n",
              "      <td>0.1270</td>\n",
              "      <td>0.407</td>\n",
              "      <td>129.990</td>\n",
              "      <td>audio_features</td>\n",
              "      <td>1dFkD1JfRMzwO6hwUsE8aS</td>\n",
              "      <td>spotify:track:1dFkD1JfRMzwO6hwUsE8aS</td>\n",
              "      <td>https://api.spotify.com/v1/tracks/1dFkD1JfRMzw...</td>\n",
              "      <td>https://api.spotify.com/v1/audio-analysis/1dFk...</td>\n",
              "      <td>243413</td>\n",
              "      <td>4</td>\n",
              "    </tr>\n",
              "    <tr>\n",
              "      <th>3</th>\n",
              "      <td>0.567</td>\n",
              "      <td>0.796</td>\n",
              "      <td>6</td>\n",
              "      <td>-3.534</td>\n",
              "      <td>1</td>\n",
              "      <td>0.0364</td>\n",
              "      <td>0.0247</td>\n",
              "      <td>0.00000</td>\n",
              "      <td>0.1240</td>\n",
              "      <td>0.305</td>\n",
              "      <td>127.983</td>\n",
              "      <td>audio_features</td>\n",
              "      <td>3Gwq0zKnMWluOEPKh93BeC</td>\n",
              "      <td>spotify:track:3Gwq0zKnMWluOEPKh93BeC</td>\n",
              "      <td>https://api.spotify.com/v1/tracks/3Gwq0zKnMWlu...</td>\n",
              "      <td>https://api.spotify.com/v1/audio-analysis/3Gwq...</td>\n",
              "      <td>225840</td>\n",
              "      <td>4</td>\n",
              "    </tr>\n",
              "    <tr>\n",
              "      <th>4</th>\n",
              "      <td>0.867</td>\n",
              "      <td>0.345</td>\n",
              "      <td>1</td>\n",
              "      <td>-11.042</td>\n",
              "      <td>1</td>\n",
              "      <td>0.0768</td>\n",
              "      <td>0.0212</td>\n",
              "      <td>0.66600</td>\n",
              "      <td>0.1030</td>\n",
              "      <td>0.259</td>\n",
              "      <td>115.000</td>\n",
              "      <td>audio_features</td>\n",
              "      <td>5qA35ZZWFOqynheP5x8rty</td>\n",
              "      <td>spotify:track:5qA35ZZWFOqynheP5x8rty</td>\n",
              "      <td>https://api.spotify.com/v1/tracks/5qA35ZZWFOqy...</td>\n",
              "      <td>https://api.spotify.com/v1/audio-analysis/5qA3...</td>\n",
              "      <td>418594</td>\n",
              "      <td>4</td>\n",
              "    </tr>\n",
              "  </tbody>\n",
              "</table>\n",
              "</div>\n",
              "      <button class=\"colab-df-convert\" onclick=\"convertToInteractive('df-38e3cf28-bac8-46f4-bb91-ddbc945eb2c8')\"\n",
              "              title=\"Convert this dataframe to an interactive table.\"\n",
              "              style=\"display:none;\">\n",
              "        \n",
              "  <svg xmlns=\"http://www.w3.org/2000/svg\" height=\"24px\"viewBox=\"0 0 24 24\"\n",
              "       width=\"24px\">\n",
              "    <path d=\"M0 0h24v24H0V0z\" fill=\"none\"/>\n",
              "    <path d=\"M18.56 5.44l.94 2.06.94-2.06 2.06-.94-2.06-.94-.94-2.06-.94 2.06-2.06.94zm-11 1L8.5 8.5l.94-2.06 2.06-.94-2.06-.94L8.5 2.5l-.94 2.06-2.06.94zm10 10l.94 2.06.94-2.06 2.06-.94-2.06-.94-.94-2.06-.94 2.06-2.06.94z\"/><path d=\"M17.41 7.96l-1.37-1.37c-.4-.4-.92-.59-1.43-.59-.52 0-1.04.2-1.43.59L10.3 9.45l-7.72 7.72c-.78.78-.78 2.05 0 2.83L4 21.41c.39.39.9.59 1.41.59.51 0 1.02-.2 1.41-.59l7.78-7.78 2.81-2.81c.8-.78.8-2.07 0-2.86zM5.41 20L4 18.59l7.72-7.72 1.47 1.35L5.41 20z\"/>\n",
              "  </svg>\n",
              "      </button>\n",
              "      \n",
              "  <style>\n",
              "    .colab-df-container {\n",
              "      display:flex;\n",
              "      flex-wrap:wrap;\n",
              "      gap: 12px;\n",
              "    }\n",
              "\n",
              "    .colab-df-convert {\n",
              "      background-color: #E8F0FE;\n",
              "      border: none;\n",
              "      border-radius: 50%;\n",
              "      cursor: pointer;\n",
              "      display: none;\n",
              "      fill: #1967D2;\n",
              "      height: 32px;\n",
              "      padding: 0 0 0 0;\n",
              "      width: 32px;\n",
              "    }\n",
              "\n",
              "    .colab-df-convert:hover {\n",
              "      background-color: #E2EBFA;\n",
              "      box-shadow: 0px 1px 2px rgba(60, 64, 67, 0.3), 0px 1px 3px 1px rgba(60, 64, 67, 0.15);\n",
              "      fill: #174EA6;\n",
              "    }\n",
              "\n",
              "    [theme=dark] .colab-df-convert {\n",
              "      background-color: #3B4455;\n",
              "      fill: #D2E3FC;\n",
              "    }\n",
              "\n",
              "    [theme=dark] .colab-df-convert:hover {\n",
              "      background-color: #434B5C;\n",
              "      box-shadow: 0px 1px 3px 1px rgba(0, 0, 0, 0.15);\n",
              "      filter: drop-shadow(0px 1px 2px rgba(0, 0, 0, 0.3));\n",
              "      fill: #FFFFFF;\n",
              "    }\n",
              "  </style>\n",
              "\n",
              "      <script>\n",
              "        const buttonEl =\n",
              "          document.querySelector('#df-38e3cf28-bac8-46f4-bb91-ddbc945eb2c8 button.colab-df-convert');\n",
              "        buttonEl.style.display =\n",
              "          google.colab.kernel.accessAllowed ? 'block' : 'none';\n",
              "\n",
              "        async function convertToInteractive(key) {\n",
              "          const element = document.querySelector('#df-38e3cf28-bac8-46f4-bb91-ddbc945eb2c8');\n",
              "          const dataTable =\n",
              "            await google.colab.kernel.invokeFunction('convertToInteractive',\n",
              "                                                     [key], {});\n",
              "          if (!dataTable) return;\n",
              "\n",
              "          const docLinkHtml = 'Like what you see? Visit the ' +\n",
              "            '<a target=\"_blank\" href=https://colab.research.google.com/notebooks/data_table.ipynb>data table notebook</a>'\n",
              "            + ' to learn more about interactive tables.';\n",
              "          element.innerHTML = '';\n",
              "          dataTable['output_type'] = 'display_data';\n",
              "          await google.colab.output.renderOutput(dataTable, element);\n",
              "          const docLink = document.createElement('div');\n",
              "          docLink.innerHTML = docLinkHtml;\n",
              "          element.appendChild(docLink);\n",
              "        }\n",
              "      </script>\n",
              "    </div>\n",
              "  </div>\n",
              "  "
            ]
          },
          "metadata": {},
          "execution_count": 14
        }
      ]
    },
    {
      "cell_type": "code",
      "source": [
        "df_audio_features.info()"
      ],
      "metadata": {
        "colab": {
          "base_uri": "https://localhost:8080/"
        },
        "id": "z2yivHWbxCSg",
        "outputId": "b5244509-407c-41aa-e73a-309be3dd2f70"
      },
      "execution_count": null,
      "outputs": [
        {
          "output_type": "stream",
          "name": "stdout",
          "text": [
            "<class 'pandas.core.frame.DataFrame'>\n",
            "RangeIndex: 9547 entries, 0 to 9546\n",
            "Data columns (total 18 columns):\n",
            " #   Column            Non-Null Count  Dtype  \n",
            "---  ------            --------------  -----  \n",
            " 0   danceability      9547 non-null   float64\n",
            " 1   energy            9547 non-null   float64\n",
            " 2   key               9547 non-null   int64  \n",
            " 3   loudness          9547 non-null   float64\n",
            " 4   mode              9547 non-null   int64  \n",
            " 5   speechiness       9547 non-null   float64\n",
            " 6   acousticness      9547 non-null   float64\n",
            " 7   instrumentalness  9547 non-null   float64\n",
            " 8   liveness          9547 non-null   float64\n",
            " 9   valence           9547 non-null   float64\n",
            " 10  tempo             9547 non-null   float64\n",
            " 11  type              9547 non-null   object \n",
            " 12  id                9547 non-null   object \n",
            " 13  uri               9547 non-null   object \n",
            " 14  track_href        9547 non-null   object \n",
            " 15  analysis_url      9547 non-null   object \n",
            " 16  duration_ms       9547 non-null   int64  \n",
            " 17  time_signature    9547 non-null   int64  \n",
            "dtypes: float64(9), int64(4), object(5)\n",
            "memory usage: 1.3+ MB\n"
          ]
        }
      ]
    },
    {
      "cell_type": "code",
      "source": [
        "columns_to_drop = ['analysis_url','track_href','type','uri']\n",
        "df_audio_features.drop(columns_to_drop, axis=1,inplace=True)\n",
        "\n",
        "df_audio_features.rename(columns={'id': 'track_id'}, inplace=True)\n",
        "\n",
        "df_audio_features.shape"
      ],
      "metadata": {
        "colab": {
          "base_uri": "https://localhost:8080/"
        },
        "id": "tjMTCbJbxVjX",
        "outputId": "bb719b4b-8bbc-4ecd-d45e-d699496ec515"
      },
      "execution_count": null,
      "outputs": [
        {
          "output_type": "execute_result",
          "data": {
            "text/plain": [
              "(9547, 14)"
            ]
          },
          "metadata": {},
          "execution_count": 16
        }
      ]
    },
    {
      "cell_type": "code",
      "source": [
        "# merge both dataframes\n",
        "# the 'inner' method will make sure that we only keep track IDs present in both datasets\n",
        "df = pd.merge(df_tracks,df_audio_features,on='track_id',how='inner')\n",
        "print(\"Shape of the dataset:\", df.shape)\n",
        "df.head()"
      ],
      "metadata": {
        "colab": {
          "base_uri": "https://localhost:8080/",
          "height": 285
        },
        "id": "xA_NdPVwxwpf",
        "outputId": "e00f2ffb-e71c-4343-ef22-50ed8298d96d"
      },
      "execution_count": null,
      "outputs": [
        {
          "output_type": "stream",
          "name": "stdout",
          "text": [
            "Shape of the dataset: (9547, 17)\n"
          ]
        },
        {
          "output_type": "execute_result",
          "data": {
            "text/plain": [
              "  artist_name                                         track_name  \\\n",
              "0        Zedd                                            Clarity   \n",
              "1        Zedd  Stay The Night - Featuring Hayley Williams Of ...   \n",
              "2        Zedd                                           Spectrum   \n",
              "3        Zedd                                        Lost At Sea   \n",
              "4        Noir                               Around - Solomun Vox   \n",
              "\n",
              "                 track_id  popularity  danceability  energy  key  loudness  \\\n",
              "0  60wwxj6Dd9NJlirf84wr2c          74         0.509   0.781    8    -3.480   \n",
              "1  2QtJA4gbwe1AcanB2p21aP          63         0.596   0.738    8    -3.109   \n",
              "2  1dFkD1JfRMzwO6hwUsE8aS          59         0.609   0.801    0    -4.417   \n",
              "3  3Gwq0zKnMWluOEPKh93BeC          47         0.567   0.796    6    -3.534   \n",
              "4  5qA35ZZWFOqynheP5x8rty          56         0.867   0.345    1   -11.042   \n",
              "\n",
              "   mode  speechiness  acousticness  instrumentalness  liveness  valence  \\\n",
              "0     1       0.0720        0.0398           0.00000    0.0749    0.176   \n",
              "1     1       0.0411        0.1090           0.00000    0.0947    0.461   \n",
              "2     0       0.0340        0.0137           0.00349    0.1270    0.407   \n",
              "3     1       0.0364        0.0247           0.00000    0.1240    0.305   \n",
              "4     1       0.0768        0.0212           0.66600    0.1030    0.259   \n",
              "\n",
              "     tempo  duration_ms  time_signature  \n",
              "0  128.000       271427               4  \n",
              "1  127.961       217347               4  \n",
              "2  129.990       243413               4  \n",
              "3  127.983       225840               4  \n",
              "4  115.000       418594               4  "
            ],
            "text/html": [
              "\n",
              "  <div id=\"df-03755924-3ff9-447d-b5e3-3d6321d23089\">\n",
              "    <div class=\"colab-df-container\">\n",
              "      <div>\n",
              "<style scoped>\n",
              "    .dataframe tbody tr th:only-of-type {\n",
              "        vertical-align: middle;\n",
              "    }\n",
              "\n",
              "    .dataframe tbody tr th {\n",
              "        vertical-align: top;\n",
              "    }\n",
              "\n",
              "    .dataframe thead th {\n",
              "        text-align: right;\n",
              "    }\n",
              "</style>\n",
              "<table border=\"1\" class=\"dataframe\">\n",
              "  <thead>\n",
              "    <tr style=\"text-align: right;\">\n",
              "      <th></th>\n",
              "      <th>artist_name</th>\n",
              "      <th>track_name</th>\n",
              "      <th>track_id</th>\n",
              "      <th>popularity</th>\n",
              "      <th>danceability</th>\n",
              "      <th>energy</th>\n",
              "      <th>key</th>\n",
              "      <th>loudness</th>\n",
              "      <th>mode</th>\n",
              "      <th>speechiness</th>\n",
              "      <th>acousticness</th>\n",
              "      <th>instrumentalness</th>\n",
              "      <th>liveness</th>\n",
              "      <th>valence</th>\n",
              "      <th>tempo</th>\n",
              "      <th>duration_ms</th>\n",
              "      <th>time_signature</th>\n",
              "    </tr>\n",
              "  </thead>\n",
              "  <tbody>\n",
              "    <tr>\n",
              "      <th>0</th>\n",
              "      <td>Zedd</td>\n",
              "      <td>Clarity</td>\n",
              "      <td>60wwxj6Dd9NJlirf84wr2c</td>\n",
              "      <td>74</td>\n",
              "      <td>0.509</td>\n",
              "      <td>0.781</td>\n",
              "      <td>8</td>\n",
              "      <td>-3.480</td>\n",
              "      <td>1</td>\n",
              "      <td>0.0720</td>\n",
              "      <td>0.0398</td>\n",
              "      <td>0.00000</td>\n",
              "      <td>0.0749</td>\n",
              "      <td>0.176</td>\n",
              "      <td>128.000</td>\n",
              "      <td>271427</td>\n",
              "      <td>4</td>\n",
              "    </tr>\n",
              "    <tr>\n",
              "      <th>1</th>\n",
              "      <td>Zedd</td>\n",
              "      <td>Stay The Night - Featuring Hayley Williams Of ...</td>\n",
              "      <td>2QtJA4gbwe1AcanB2p21aP</td>\n",
              "      <td>63</td>\n",
              "      <td>0.596</td>\n",
              "      <td>0.738</td>\n",
              "      <td>8</td>\n",
              "      <td>-3.109</td>\n",
              "      <td>1</td>\n",
              "      <td>0.0411</td>\n",
              "      <td>0.1090</td>\n",
              "      <td>0.00000</td>\n",
              "      <td>0.0947</td>\n",
              "      <td>0.461</td>\n",
              "      <td>127.961</td>\n",
              "      <td>217347</td>\n",
              "      <td>4</td>\n",
              "    </tr>\n",
              "    <tr>\n",
              "      <th>2</th>\n",
              "      <td>Zedd</td>\n",
              "      <td>Spectrum</td>\n",
              "      <td>1dFkD1JfRMzwO6hwUsE8aS</td>\n",
              "      <td>59</td>\n",
              "      <td>0.609</td>\n",
              "      <td>0.801</td>\n",
              "      <td>0</td>\n",
              "      <td>-4.417</td>\n",
              "      <td>0</td>\n",
              "      <td>0.0340</td>\n",
              "      <td>0.0137</td>\n",
              "      <td>0.00349</td>\n",
              "      <td>0.1270</td>\n",
              "      <td>0.407</td>\n",
              "      <td>129.990</td>\n",
              "      <td>243413</td>\n",
              "      <td>4</td>\n",
              "    </tr>\n",
              "    <tr>\n",
              "      <th>3</th>\n",
              "      <td>Zedd</td>\n",
              "      <td>Lost At Sea</td>\n",
              "      <td>3Gwq0zKnMWluOEPKh93BeC</td>\n",
              "      <td>47</td>\n",
              "      <td>0.567</td>\n",
              "      <td>0.796</td>\n",
              "      <td>6</td>\n",
              "      <td>-3.534</td>\n",
              "      <td>1</td>\n",
              "      <td>0.0364</td>\n",
              "      <td>0.0247</td>\n",
              "      <td>0.00000</td>\n",
              "      <td>0.1240</td>\n",
              "      <td>0.305</td>\n",
              "      <td>127.983</td>\n",
              "      <td>225840</td>\n",
              "      <td>4</td>\n",
              "    </tr>\n",
              "    <tr>\n",
              "      <th>4</th>\n",
              "      <td>Noir</td>\n",
              "      <td>Around - Solomun Vox</td>\n",
              "      <td>5qA35ZZWFOqynheP5x8rty</td>\n",
              "      <td>56</td>\n",
              "      <td>0.867</td>\n",
              "      <td>0.345</td>\n",
              "      <td>1</td>\n",
              "      <td>-11.042</td>\n",
              "      <td>1</td>\n",
              "      <td>0.0768</td>\n",
              "      <td>0.0212</td>\n",
              "      <td>0.66600</td>\n",
              "      <td>0.1030</td>\n",
              "      <td>0.259</td>\n",
              "      <td>115.000</td>\n",
              "      <td>418594</td>\n",
              "      <td>4</td>\n",
              "    </tr>\n",
              "  </tbody>\n",
              "</table>\n",
              "</div>\n",
              "      <button class=\"colab-df-convert\" onclick=\"convertToInteractive('df-03755924-3ff9-447d-b5e3-3d6321d23089')\"\n",
              "              title=\"Convert this dataframe to an interactive table.\"\n",
              "              style=\"display:none;\">\n",
              "        \n",
              "  <svg xmlns=\"http://www.w3.org/2000/svg\" height=\"24px\"viewBox=\"0 0 24 24\"\n",
              "       width=\"24px\">\n",
              "    <path d=\"M0 0h24v24H0V0z\" fill=\"none\"/>\n",
              "    <path d=\"M18.56 5.44l.94 2.06.94-2.06 2.06-.94-2.06-.94-.94-2.06-.94 2.06-2.06.94zm-11 1L8.5 8.5l.94-2.06 2.06-.94-2.06-.94L8.5 2.5l-.94 2.06-2.06.94zm10 10l.94 2.06.94-2.06 2.06-.94-2.06-.94-.94-2.06-.94 2.06-2.06.94z\"/><path d=\"M17.41 7.96l-1.37-1.37c-.4-.4-.92-.59-1.43-.59-.52 0-1.04.2-1.43.59L10.3 9.45l-7.72 7.72c-.78.78-.78 2.05 0 2.83L4 21.41c.39.39.9.59 1.41.59.51 0 1.02-.2 1.41-.59l7.78-7.78 2.81-2.81c.8-.78.8-2.07 0-2.86zM5.41 20L4 18.59l7.72-7.72 1.47 1.35L5.41 20z\"/>\n",
              "  </svg>\n",
              "      </button>\n",
              "      \n",
              "  <style>\n",
              "    .colab-df-container {\n",
              "      display:flex;\n",
              "      flex-wrap:wrap;\n",
              "      gap: 12px;\n",
              "    }\n",
              "\n",
              "    .colab-df-convert {\n",
              "      background-color: #E8F0FE;\n",
              "      border: none;\n",
              "      border-radius: 50%;\n",
              "      cursor: pointer;\n",
              "      display: none;\n",
              "      fill: #1967D2;\n",
              "      height: 32px;\n",
              "      padding: 0 0 0 0;\n",
              "      width: 32px;\n",
              "    }\n",
              "\n",
              "    .colab-df-convert:hover {\n",
              "      background-color: #E2EBFA;\n",
              "      box-shadow: 0px 1px 2px rgba(60, 64, 67, 0.3), 0px 1px 3px 1px rgba(60, 64, 67, 0.15);\n",
              "      fill: #174EA6;\n",
              "    }\n",
              "\n",
              "    [theme=dark] .colab-df-convert {\n",
              "      background-color: #3B4455;\n",
              "      fill: #D2E3FC;\n",
              "    }\n",
              "\n",
              "    [theme=dark] .colab-df-convert:hover {\n",
              "      background-color: #434B5C;\n",
              "      box-shadow: 0px 1px 3px 1px rgba(0, 0, 0, 0.15);\n",
              "      filter: drop-shadow(0px 1px 2px rgba(0, 0, 0, 0.3));\n",
              "      fill: #FFFFFF;\n",
              "    }\n",
              "  </style>\n",
              "\n",
              "      <script>\n",
              "        const buttonEl =\n",
              "          document.querySelector('#df-03755924-3ff9-447d-b5e3-3d6321d23089 button.colab-df-convert');\n",
              "        buttonEl.style.display =\n",
              "          google.colab.kernel.accessAllowed ? 'block' : 'none';\n",
              "\n",
              "        async function convertToInteractive(key) {\n",
              "          const element = document.querySelector('#df-03755924-3ff9-447d-b5e3-3d6321d23089');\n",
              "          const dataTable =\n",
              "            await google.colab.kernel.invokeFunction('convertToInteractive',\n",
              "                                                     [key], {});\n",
              "          if (!dataTable) return;\n",
              "\n",
              "          const docLinkHtml = 'Like what you see? Visit the ' +\n",
              "            '<a target=\"_blank\" href=https://colab.research.google.com/notebooks/data_table.ipynb>data table notebook</a>'\n",
              "            + ' to learn more about interactive tables.';\n",
              "          element.innerHTML = '';\n",
              "          dataTable['output_type'] = 'display_data';\n",
              "          await google.colab.output.renderOutput(dataTable, element);\n",
              "          const docLink = document.createElement('div');\n",
              "          docLink.innerHTML = docLinkHtml;\n",
              "          element.appendChild(docLink);\n",
              "        }\n",
              "      </script>\n",
              "    </div>\n",
              "  </div>\n",
              "  "
            ]
          },
          "metadata": {},
          "execution_count": 17
        }
      ]
    },
    {
      "cell_type": "code",
      "source": [
        "df.info()"
      ],
      "metadata": {
        "colab": {
          "base_uri": "https://localhost:8080/"
        },
        "id": "wa5Ng8kyx03w",
        "outputId": "e0debe74-ec3c-40ee-9d39-46c59444d882"
      },
      "execution_count": null,
      "outputs": [
        {
          "output_type": "stream",
          "name": "stdout",
          "text": [
            "<class 'pandas.core.frame.DataFrame'>\n",
            "Int64Index: 9547 entries, 0 to 9546\n",
            "Data columns (total 17 columns):\n",
            " #   Column            Non-Null Count  Dtype  \n",
            "---  ------            --------------  -----  \n",
            " 0   artist_name       9547 non-null   object \n",
            " 1   track_name        9547 non-null   object \n",
            " 2   track_id          9547 non-null   object \n",
            " 3   popularity        9547 non-null   int64  \n",
            " 4   danceability      9547 non-null   float64\n",
            " 5   energy            9547 non-null   float64\n",
            " 6   key               9547 non-null   int64  \n",
            " 7   loudness          9547 non-null   float64\n",
            " 8   mode              9547 non-null   int64  \n",
            " 9   speechiness       9547 non-null   float64\n",
            " 10  acousticness      9547 non-null   float64\n",
            " 11  instrumentalness  9547 non-null   float64\n",
            " 12  liveness          9547 non-null   float64\n",
            " 13  valence           9547 non-null   float64\n",
            " 14  tempo             9547 non-null   float64\n",
            " 15  duration_ms       9547 non-null   int64  \n",
            " 16  time_signature    9547 non-null   int64  \n",
            "dtypes: float64(9), int64(5), object(3)\n",
            "memory usage: 1.3+ MB\n"
          ]
        }
      ]
    },
    {
      "cell_type": "markdown",
      "source": [
        "Checking for any duplicate tracks"
      ],
      "metadata": {
        "id": "Vh4WOnxUy7PB"
      }
    },
    {
      "cell_type": "code",
      "source": [
        "df[df.duplicated(subset=['artist_name','track_name'],keep=False)]"
      ],
      "metadata": {
        "colab": {
          "base_uri": "https://localhost:8080/",
          "height": 49
        },
        "id": "FcSc4WkSyt0J",
        "outputId": "d24ef1d8-b0e9-401a-946e-0add80980fff"
      },
      "execution_count": null,
      "outputs": [
        {
          "output_type": "execute_result",
          "data": {
            "text/plain": [
              "Empty DataFrame\n",
              "Columns: [artist_name, track_name, track_id, popularity, danceability, energy, key, loudness, mode, speechiness, acousticness, instrumentalness, liveness, valence, tempo, duration_ms, time_signature]\n",
              "Index: []"
            ],
            "text/html": [
              "\n",
              "  <div id=\"df-8cd1c715-2216-4a2c-a2ab-1666efbdd7b6\">\n",
              "    <div class=\"colab-df-container\">\n",
              "      <div>\n",
              "<style scoped>\n",
              "    .dataframe tbody tr th:only-of-type {\n",
              "        vertical-align: middle;\n",
              "    }\n",
              "\n",
              "    .dataframe tbody tr th {\n",
              "        vertical-align: top;\n",
              "    }\n",
              "\n",
              "    .dataframe thead th {\n",
              "        text-align: right;\n",
              "    }\n",
              "</style>\n",
              "<table border=\"1\" class=\"dataframe\">\n",
              "  <thead>\n",
              "    <tr style=\"text-align: right;\">\n",
              "      <th></th>\n",
              "      <th>artist_name</th>\n",
              "      <th>track_name</th>\n",
              "      <th>track_id</th>\n",
              "      <th>popularity</th>\n",
              "      <th>danceability</th>\n",
              "      <th>energy</th>\n",
              "      <th>key</th>\n",
              "      <th>loudness</th>\n",
              "      <th>mode</th>\n",
              "      <th>speechiness</th>\n",
              "      <th>acousticness</th>\n",
              "      <th>instrumentalness</th>\n",
              "      <th>liveness</th>\n",
              "      <th>valence</th>\n",
              "      <th>tempo</th>\n",
              "      <th>duration_ms</th>\n",
              "      <th>time_signature</th>\n",
              "    </tr>\n",
              "  </thead>\n",
              "  <tbody>\n",
              "  </tbody>\n",
              "</table>\n",
              "</div>\n",
              "      <button class=\"colab-df-convert\" onclick=\"convertToInteractive('df-8cd1c715-2216-4a2c-a2ab-1666efbdd7b6')\"\n",
              "              title=\"Convert this dataframe to an interactive table.\"\n",
              "              style=\"display:none;\">\n",
              "        \n",
              "  <svg xmlns=\"http://www.w3.org/2000/svg\" height=\"24px\"viewBox=\"0 0 24 24\"\n",
              "       width=\"24px\">\n",
              "    <path d=\"M0 0h24v24H0V0z\" fill=\"none\"/>\n",
              "    <path d=\"M18.56 5.44l.94 2.06.94-2.06 2.06-.94-2.06-.94-.94-2.06-.94 2.06-2.06.94zm-11 1L8.5 8.5l.94-2.06 2.06-.94-2.06-.94L8.5 2.5l-.94 2.06-2.06.94zm10 10l.94 2.06.94-2.06 2.06-.94-2.06-.94-.94-2.06-.94 2.06-2.06.94z\"/><path d=\"M17.41 7.96l-1.37-1.37c-.4-.4-.92-.59-1.43-.59-.52 0-1.04.2-1.43.59L10.3 9.45l-7.72 7.72c-.78.78-.78 2.05 0 2.83L4 21.41c.39.39.9.59 1.41.59.51 0 1.02-.2 1.41-.59l7.78-7.78 2.81-2.81c.8-.78.8-2.07 0-2.86zM5.41 20L4 18.59l7.72-7.72 1.47 1.35L5.41 20z\"/>\n",
              "  </svg>\n",
              "      </button>\n",
              "      \n",
              "  <style>\n",
              "    .colab-df-container {\n",
              "      display:flex;\n",
              "      flex-wrap:wrap;\n",
              "      gap: 12px;\n",
              "    }\n",
              "\n",
              "    .colab-df-convert {\n",
              "      background-color: #E8F0FE;\n",
              "      border: none;\n",
              "      border-radius: 50%;\n",
              "      cursor: pointer;\n",
              "      display: none;\n",
              "      fill: #1967D2;\n",
              "      height: 32px;\n",
              "      padding: 0 0 0 0;\n",
              "      width: 32px;\n",
              "    }\n",
              "\n",
              "    .colab-df-convert:hover {\n",
              "      background-color: #E2EBFA;\n",
              "      box-shadow: 0px 1px 2px rgba(60, 64, 67, 0.3), 0px 1px 3px 1px rgba(60, 64, 67, 0.15);\n",
              "      fill: #174EA6;\n",
              "    }\n",
              "\n",
              "    [theme=dark] .colab-df-convert {\n",
              "      background-color: #3B4455;\n",
              "      fill: #D2E3FC;\n",
              "    }\n",
              "\n",
              "    [theme=dark] .colab-df-convert:hover {\n",
              "      background-color: #434B5C;\n",
              "      box-shadow: 0px 1px 3px 1px rgba(0, 0, 0, 0.15);\n",
              "      filter: drop-shadow(0px 1px 2px rgba(0, 0, 0, 0.3));\n",
              "      fill: #FFFFFF;\n",
              "    }\n",
              "  </style>\n",
              "\n",
              "      <script>\n",
              "        const buttonEl =\n",
              "          document.querySelector('#df-8cd1c715-2216-4a2c-a2ab-1666efbdd7b6 button.colab-df-convert');\n",
              "        buttonEl.style.display =\n",
              "          google.colab.kernel.accessAllowed ? 'block' : 'none';\n",
              "\n",
              "        async function convertToInteractive(key) {\n",
              "          const element = document.querySelector('#df-8cd1c715-2216-4a2c-a2ab-1666efbdd7b6');\n",
              "          const dataTable =\n",
              "            await google.colab.kernel.invokeFunction('convertToInteractive',\n",
              "                                                     [key], {});\n",
              "          if (!dataTable) return;\n",
              "\n",
              "          const docLinkHtml = 'Like what you see? Visit the ' +\n",
              "            '<a target=\"_blank\" href=https://colab.research.google.com/notebooks/data_table.ipynb>data table notebook</a>'\n",
              "            + ' to learn more about interactive tables.';\n",
              "          element.innerHTML = '';\n",
              "          dataTable['output_type'] = 'display_data';\n",
              "          await google.colab.output.renderOutput(dataTable, element);\n",
              "          const docLink = document.createElement('div');\n",
              "          docLink.innerHTML = docLinkHtml;\n",
              "          element.appendChild(docLink);\n",
              "        }\n",
              "      </script>\n",
              "    </div>\n",
              "  </div>\n",
              "  "
            ]
          },
          "metadata": {},
          "execution_count": 19
        }
      ]
    },
    {
      "cell_type": "markdown",
      "source": [
        "# Enriching data with additional features"
      ],
      "metadata": {
        "id": "AzFDqYQUtRQq"
      }
    },
    {
      "cell_type": "code",
      "source": [
        "import time\n",
        "from tqdm import tqdm"
      ],
      "metadata": {
        "id": "U4DSKXgq3AfI"
      },
      "execution_count": null,
      "outputs": []
    },
    {
      "cell_type": "code",
      "source": [
        "# again measuring the time\n",
        "start = timeit.default_timer()\n",
        "\n",
        "# creating a dataset with additional features\n",
        "track_id = []\n",
        "key_confidence = []\n",
        "mode_confidence = []\n",
        "tempo_confidence = []\n",
        "time_signature_confidence = []\n",
        "None_counter = 0\n",
        "\n",
        "for i in tqdm(range(0,len(df['track_id']))):\n",
        "    if i % 100 == 0:\n",
        "      time.sleep(2)\n",
        "      \n",
        "    track = df['track_id'][i]\n",
        "\n",
        "    try:\n",
        "      analysis_results = sp.audio_analysis(track)['track']\n",
        "    except:\n",
        "      analysis_results = None\n",
        "\n",
        "    if analysis_results == None:\n",
        "        None_counter = None_counter + 1\n",
        "    else:\n",
        "        track_id.append(track)\n",
        "        key_confidence.append(analysis_results['key_confidence'])\n",
        "        mode_confidence.append(analysis_results['mode_confidence'])\n",
        "        tempo_confidence.append(analysis_results['tempo_confidence'])\n",
        "        time_signature_confidence.append(analysis_results['time_signature_confidence'])\n",
        "            \n",
        "print('Number of tracks where no audio features were available:',None_counter)\n",
        "\n",
        "stop = timeit.default_timer()\n",
        "print ('Time to run this code (in seconds):',stop - start)"
      ],
      "metadata": {
        "colab": {
          "base_uri": "https://localhost:8080/"
        },
        "id": "iSAlPxq5vARy",
        "outputId": "dedbbea7-2103-44a1-923e-8588a76fc01a"
      },
      "execution_count": null,
      "outputs": [
        {
          "output_type": "stream",
          "name": "stderr",
          "text": [
            "  3%|▎         | 278/9547 [02:21<1:10:18,  2.20it/s]Max Retries reached\n",
            "  3%|▎         | 303/9547 [02:46<2:34:41,  1.00s/it]Max Retries reached\n",
            "  4%|▍         | 422/9547 [04:02<1:21:03,  1.88it/s]Max Retries reached\n",
            "  7%|▋         | 699/9547 [06:50<1:32:02,  1.60it/s]Max Retries reached\n",
            " 13%|█▎        | 1282/9547 [12:28<1:20:12,  1.72it/s]Max Retries reached\n",
            " 20%|█▉        | 1898/9547 [18:33<1:24:07,  1.52it/s]Max Retries reached\n",
            " 23%|██▎       | 2231/9547 [21:53<1:07:19,  1.81it/s]Max Retries reached\n",
            " 24%|██▍       | 2324/9547 [22:51<1:04:42,  1.86it/s]Max Retries reached\n",
            " 30%|███       | 2905/9547 [28:41<1:19:47,  1.39it/s]Max Retries reached\n",
            " 34%|███▍      | 3272/9547 [32:16<53:47,  1.94it/s]Max Retries reached\n",
            " 40%|███▉      | 3784/9547 [37:39<1:03:42,  1.51it/s]Max Retries reached\n",
            " 49%|████▉     | 4675/9547 [46:38<47:39,  1.70it/s]Max Retries reached\n",
            " 59%|█████▉    | 5644/9547 [56:17<39:43,  1.64it/s]Max Retries reached\n",
            " 66%|██████▌   | 6292/9547 [1:02:54<32:23,  1.67it/s]Max Retries reached\n",
            " 69%|██████▊   | 6542/9547 [1:05:36<32:02,  1.56it/s]Max Retries reached\n",
            " 85%|████████▌ | 8136/9547 [1:21:40<13:44,  1.71it/s]Max Retries reached\n",
            " 90%|█████████ | 8623/9547 [1:27:12<09:37,  1.60it/s]Max Retries reached\n",
            "100%|██████████| 9547/9547 [1:36:07<00:00,  1.66it/s]"
          ]
        },
        {
          "output_type": "stream",
          "name": "stdout",
          "text": [
            "Number of tracks where no audio features were available: 18\n",
            "Time to run this code (in seconds): 5767.7546839609995\n"
          ]
        },
        {
          "output_type": "stream",
          "name": "stderr",
          "text": [
            "\n"
          ]
        }
      ]
    },
    {
      "cell_type": "code",
      "source": [
        "df_analysis = pd.DataFrame({'track_id':track_id,'key_confidence':key_confidence,\n",
        "                            'mode_confidence':mode_confidence,'tempo_confidence':tempo_confidence,\n",
        "                            'time_signature_confidence':time_signature_confidence})\n",
        "print(df_analysis.shape)\n",
        "df_analysis.head()"
      ],
      "metadata": {
        "colab": {
          "base_uri": "https://localhost:8080/",
          "height": 224
        },
        "id": "eM4Z2EBk8MXg",
        "outputId": "2194e458-0bd4-4cb8-abfd-7fa47f3f4b83"
      },
      "execution_count": null,
      "outputs": [
        {
          "output_type": "stream",
          "name": "stdout",
          "text": [
            "(9529, 5)\n"
          ]
        },
        {
          "output_type": "execute_result",
          "data": {
            "text/plain": [
              "                 track_id  key_confidence  mode_confidence  tempo_confidence  \\\n",
              "0  60wwxj6Dd9NJlirf84wr2c           0.592            0.700             0.778   \n",
              "1  2QtJA4gbwe1AcanB2p21aP           0.395            0.646             0.720   \n",
              "2  1dFkD1JfRMzwO6hwUsE8aS           0.299            0.477             0.764   \n",
              "3  3Gwq0zKnMWluOEPKh93BeC           0.478            0.603             0.708   \n",
              "4  5qA35ZZWFOqynheP5x8rty           0.383            0.486             0.927   \n",
              "\n",
              "   time_signature_confidence  \n",
              "0                      0.582  \n",
              "1                      1.000  \n",
              "2                      0.646  \n",
              "3                      0.987  \n",
              "4                      1.000  "
            ],
            "text/html": [
              "\n",
              "  <div id=\"df-93a64eb3-85fe-4167-a997-4a4f524703c9\">\n",
              "    <div class=\"colab-df-container\">\n",
              "      <div>\n",
              "<style scoped>\n",
              "    .dataframe tbody tr th:only-of-type {\n",
              "        vertical-align: middle;\n",
              "    }\n",
              "\n",
              "    .dataframe tbody tr th {\n",
              "        vertical-align: top;\n",
              "    }\n",
              "\n",
              "    .dataframe thead th {\n",
              "        text-align: right;\n",
              "    }\n",
              "</style>\n",
              "<table border=\"1\" class=\"dataframe\">\n",
              "  <thead>\n",
              "    <tr style=\"text-align: right;\">\n",
              "      <th></th>\n",
              "      <th>track_id</th>\n",
              "      <th>key_confidence</th>\n",
              "      <th>mode_confidence</th>\n",
              "      <th>tempo_confidence</th>\n",
              "      <th>time_signature_confidence</th>\n",
              "    </tr>\n",
              "  </thead>\n",
              "  <tbody>\n",
              "    <tr>\n",
              "      <th>0</th>\n",
              "      <td>60wwxj6Dd9NJlirf84wr2c</td>\n",
              "      <td>0.592</td>\n",
              "      <td>0.700</td>\n",
              "      <td>0.778</td>\n",
              "      <td>0.582</td>\n",
              "    </tr>\n",
              "    <tr>\n",
              "      <th>1</th>\n",
              "      <td>2QtJA4gbwe1AcanB2p21aP</td>\n",
              "      <td>0.395</td>\n",
              "      <td>0.646</td>\n",
              "      <td>0.720</td>\n",
              "      <td>1.000</td>\n",
              "    </tr>\n",
              "    <tr>\n",
              "      <th>2</th>\n",
              "      <td>1dFkD1JfRMzwO6hwUsE8aS</td>\n",
              "      <td>0.299</td>\n",
              "      <td>0.477</td>\n",
              "      <td>0.764</td>\n",
              "      <td>0.646</td>\n",
              "    </tr>\n",
              "    <tr>\n",
              "      <th>3</th>\n",
              "      <td>3Gwq0zKnMWluOEPKh93BeC</td>\n",
              "      <td>0.478</td>\n",
              "      <td>0.603</td>\n",
              "      <td>0.708</td>\n",
              "      <td>0.987</td>\n",
              "    </tr>\n",
              "    <tr>\n",
              "      <th>4</th>\n",
              "      <td>5qA35ZZWFOqynheP5x8rty</td>\n",
              "      <td>0.383</td>\n",
              "      <td>0.486</td>\n",
              "      <td>0.927</td>\n",
              "      <td>1.000</td>\n",
              "    </tr>\n",
              "  </tbody>\n",
              "</table>\n",
              "</div>\n",
              "      <button class=\"colab-df-convert\" onclick=\"convertToInteractive('df-93a64eb3-85fe-4167-a997-4a4f524703c9')\"\n",
              "              title=\"Convert this dataframe to an interactive table.\"\n",
              "              style=\"display:none;\">\n",
              "        \n",
              "  <svg xmlns=\"http://www.w3.org/2000/svg\" height=\"24px\"viewBox=\"0 0 24 24\"\n",
              "       width=\"24px\">\n",
              "    <path d=\"M0 0h24v24H0V0z\" fill=\"none\"/>\n",
              "    <path d=\"M18.56 5.44l.94 2.06.94-2.06 2.06-.94-2.06-.94-.94-2.06-.94 2.06-2.06.94zm-11 1L8.5 8.5l.94-2.06 2.06-.94-2.06-.94L8.5 2.5l-.94 2.06-2.06.94zm10 10l.94 2.06.94-2.06 2.06-.94-2.06-.94-.94-2.06-.94 2.06-2.06.94z\"/><path d=\"M17.41 7.96l-1.37-1.37c-.4-.4-.92-.59-1.43-.59-.52 0-1.04.2-1.43.59L10.3 9.45l-7.72 7.72c-.78.78-.78 2.05 0 2.83L4 21.41c.39.39.9.59 1.41.59.51 0 1.02-.2 1.41-.59l7.78-7.78 2.81-2.81c.8-.78.8-2.07 0-2.86zM5.41 20L4 18.59l7.72-7.72 1.47 1.35L5.41 20z\"/>\n",
              "  </svg>\n",
              "      </button>\n",
              "      \n",
              "  <style>\n",
              "    .colab-df-container {\n",
              "      display:flex;\n",
              "      flex-wrap:wrap;\n",
              "      gap: 12px;\n",
              "    }\n",
              "\n",
              "    .colab-df-convert {\n",
              "      background-color: #E8F0FE;\n",
              "      border: none;\n",
              "      border-radius: 50%;\n",
              "      cursor: pointer;\n",
              "      display: none;\n",
              "      fill: #1967D2;\n",
              "      height: 32px;\n",
              "      padding: 0 0 0 0;\n",
              "      width: 32px;\n",
              "    }\n",
              "\n",
              "    .colab-df-convert:hover {\n",
              "      background-color: #E2EBFA;\n",
              "      box-shadow: 0px 1px 2px rgba(60, 64, 67, 0.3), 0px 1px 3px 1px rgba(60, 64, 67, 0.15);\n",
              "      fill: #174EA6;\n",
              "    }\n",
              "\n",
              "    [theme=dark] .colab-df-convert {\n",
              "      background-color: #3B4455;\n",
              "      fill: #D2E3FC;\n",
              "    }\n",
              "\n",
              "    [theme=dark] .colab-df-convert:hover {\n",
              "      background-color: #434B5C;\n",
              "      box-shadow: 0px 1px 3px 1px rgba(0, 0, 0, 0.15);\n",
              "      filter: drop-shadow(0px 1px 2px rgba(0, 0, 0, 0.3));\n",
              "      fill: #FFFFFF;\n",
              "    }\n",
              "  </style>\n",
              "\n",
              "      <script>\n",
              "        const buttonEl =\n",
              "          document.querySelector('#df-93a64eb3-85fe-4167-a997-4a4f524703c9 button.colab-df-convert');\n",
              "        buttonEl.style.display =\n",
              "          google.colab.kernel.accessAllowed ? 'block' : 'none';\n",
              "\n",
              "        async function convertToInteractive(key) {\n",
              "          const element = document.querySelector('#df-93a64eb3-85fe-4167-a997-4a4f524703c9');\n",
              "          const dataTable =\n",
              "            await google.colab.kernel.invokeFunction('convertToInteractive',\n",
              "                                                     [key], {});\n",
              "          if (!dataTable) return;\n",
              "\n",
              "          const docLinkHtml = 'Like what you see? Visit the ' +\n",
              "            '<a target=\"_blank\" href=https://colab.research.google.com/notebooks/data_table.ipynb>data table notebook</a>'\n",
              "            + ' to learn more about interactive tables.';\n",
              "          element.innerHTML = '';\n",
              "          dataTable['output_type'] = 'display_data';\n",
              "          await google.colab.output.renderOutput(dataTable, element);\n",
              "          const docLink = document.createElement('div');\n",
              "          docLink.innerHTML = docLinkHtml;\n",
              "          element.appendChild(docLink);\n",
              "        }\n",
              "      </script>\n",
              "    </div>\n",
              "  </div>\n",
              "  "
            ]
          },
          "metadata": {},
          "execution_count": 53
        }
      ]
    },
    {
      "cell_type": "code",
      "source": [
        "df = pd.merge(df,df_analysis,on='track_id',how='left')\n",
        "print(\"Shape of the dataset:\", df.shape)\n",
        "df.head()"
      ],
      "metadata": {
        "colab": {
          "base_uri": "https://localhost:8080/",
          "height": 438
        },
        "id": "ElkUNH7G-gSg",
        "outputId": "6055920d-c2dd-44f1-ee8e-a14aa36387f1"
      },
      "execution_count": null,
      "outputs": [
        {
          "output_type": "stream",
          "name": "stdout",
          "text": [
            "Shape of the dataset: (9547, 21)\n"
          ]
        },
        {
          "output_type": "execute_result",
          "data": {
            "text/plain": [
              "  artist_name                                         track_name  \\\n",
              "0        Zedd                                            Clarity   \n",
              "1        Zedd  Stay The Night - Featuring Hayley Williams Of ...   \n",
              "2        Zedd                                           Spectrum   \n",
              "3        Zedd                                        Lost At Sea   \n",
              "4        Noir                               Around - Solomun Vox   \n",
              "\n",
              "                 track_id  popularity  danceability  energy  key  loudness  \\\n",
              "0  60wwxj6Dd9NJlirf84wr2c          74         0.509   0.781    8    -3.480   \n",
              "1  2QtJA4gbwe1AcanB2p21aP          63         0.596   0.738    8    -3.109   \n",
              "2  1dFkD1JfRMzwO6hwUsE8aS          59         0.609   0.801    0    -4.417   \n",
              "3  3Gwq0zKnMWluOEPKh93BeC          47         0.567   0.796    6    -3.534   \n",
              "4  5qA35ZZWFOqynheP5x8rty          56         0.867   0.345    1   -11.042   \n",
              "\n",
              "   mode  speechiness  ...  instrumentalness  liveness  valence    tempo  \\\n",
              "0     1       0.0720  ...           0.00000    0.0749    0.176  128.000   \n",
              "1     1       0.0411  ...           0.00000    0.0947    0.461  127.961   \n",
              "2     0       0.0340  ...           0.00349    0.1270    0.407  129.990   \n",
              "3     1       0.0364  ...           0.00000    0.1240    0.305  127.983   \n",
              "4     1       0.0768  ...           0.66600    0.1030    0.259  115.000   \n",
              "\n",
              "   duration_ms  time_signature  key_confidence  mode_confidence  \\\n",
              "0       271427               4           0.592            0.700   \n",
              "1       217347               4           0.395            0.646   \n",
              "2       243413               4           0.299            0.477   \n",
              "3       225840               4           0.478            0.603   \n",
              "4       418594               4           0.383            0.486   \n",
              "\n",
              "   tempo_confidence  time_signature_confidence  \n",
              "0             0.778                      0.582  \n",
              "1             0.720                      1.000  \n",
              "2             0.764                      0.646  \n",
              "3             0.708                      0.987  \n",
              "4             0.927                      1.000  \n",
              "\n",
              "[5 rows x 21 columns]"
            ],
            "text/html": [
              "\n",
              "  <div id=\"df-70914dd4-7e34-4886-89c3-f2df49aed89c\">\n",
              "    <div class=\"colab-df-container\">\n",
              "      <div>\n",
              "<style scoped>\n",
              "    .dataframe tbody tr th:only-of-type {\n",
              "        vertical-align: middle;\n",
              "    }\n",
              "\n",
              "    .dataframe tbody tr th {\n",
              "        vertical-align: top;\n",
              "    }\n",
              "\n",
              "    .dataframe thead th {\n",
              "        text-align: right;\n",
              "    }\n",
              "</style>\n",
              "<table border=\"1\" class=\"dataframe\">\n",
              "  <thead>\n",
              "    <tr style=\"text-align: right;\">\n",
              "      <th></th>\n",
              "      <th>artist_name</th>\n",
              "      <th>track_name</th>\n",
              "      <th>track_id</th>\n",
              "      <th>popularity</th>\n",
              "      <th>danceability</th>\n",
              "      <th>energy</th>\n",
              "      <th>key</th>\n",
              "      <th>loudness</th>\n",
              "      <th>mode</th>\n",
              "      <th>speechiness</th>\n",
              "      <th>...</th>\n",
              "      <th>instrumentalness</th>\n",
              "      <th>liveness</th>\n",
              "      <th>valence</th>\n",
              "      <th>tempo</th>\n",
              "      <th>duration_ms</th>\n",
              "      <th>time_signature</th>\n",
              "      <th>key_confidence</th>\n",
              "      <th>mode_confidence</th>\n",
              "      <th>tempo_confidence</th>\n",
              "      <th>time_signature_confidence</th>\n",
              "    </tr>\n",
              "  </thead>\n",
              "  <tbody>\n",
              "    <tr>\n",
              "      <th>0</th>\n",
              "      <td>Zedd</td>\n",
              "      <td>Clarity</td>\n",
              "      <td>60wwxj6Dd9NJlirf84wr2c</td>\n",
              "      <td>74</td>\n",
              "      <td>0.509</td>\n",
              "      <td>0.781</td>\n",
              "      <td>8</td>\n",
              "      <td>-3.480</td>\n",
              "      <td>1</td>\n",
              "      <td>0.0720</td>\n",
              "      <td>...</td>\n",
              "      <td>0.00000</td>\n",
              "      <td>0.0749</td>\n",
              "      <td>0.176</td>\n",
              "      <td>128.000</td>\n",
              "      <td>271427</td>\n",
              "      <td>4</td>\n",
              "      <td>0.592</td>\n",
              "      <td>0.700</td>\n",
              "      <td>0.778</td>\n",
              "      <td>0.582</td>\n",
              "    </tr>\n",
              "    <tr>\n",
              "      <th>1</th>\n",
              "      <td>Zedd</td>\n",
              "      <td>Stay The Night - Featuring Hayley Williams Of ...</td>\n",
              "      <td>2QtJA4gbwe1AcanB2p21aP</td>\n",
              "      <td>63</td>\n",
              "      <td>0.596</td>\n",
              "      <td>0.738</td>\n",
              "      <td>8</td>\n",
              "      <td>-3.109</td>\n",
              "      <td>1</td>\n",
              "      <td>0.0411</td>\n",
              "      <td>...</td>\n",
              "      <td>0.00000</td>\n",
              "      <td>0.0947</td>\n",
              "      <td>0.461</td>\n",
              "      <td>127.961</td>\n",
              "      <td>217347</td>\n",
              "      <td>4</td>\n",
              "      <td>0.395</td>\n",
              "      <td>0.646</td>\n",
              "      <td>0.720</td>\n",
              "      <td>1.000</td>\n",
              "    </tr>\n",
              "    <tr>\n",
              "      <th>2</th>\n",
              "      <td>Zedd</td>\n",
              "      <td>Spectrum</td>\n",
              "      <td>1dFkD1JfRMzwO6hwUsE8aS</td>\n",
              "      <td>59</td>\n",
              "      <td>0.609</td>\n",
              "      <td>0.801</td>\n",
              "      <td>0</td>\n",
              "      <td>-4.417</td>\n",
              "      <td>0</td>\n",
              "      <td>0.0340</td>\n",
              "      <td>...</td>\n",
              "      <td>0.00349</td>\n",
              "      <td>0.1270</td>\n",
              "      <td>0.407</td>\n",
              "      <td>129.990</td>\n",
              "      <td>243413</td>\n",
              "      <td>4</td>\n",
              "      <td>0.299</td>\n",
              "      <td>0.477</td>\n",
              "      <td>0.764</td>\n",
              "      <td>0.646</td>\n",
              "    </tr>\n",
              "    <tr>\n",
              "      <th>3</th>\n",
              "      <td>Zedd</td>\n",
              "      <td>Lost At Sea</td>\n",
              "      <td>3Gwq0zKnMWluOEPKh93BeC</td>\n",
              "      <td>47</td>\n",
              "      <td>0.567</td>\n",
              "      <td>0.796</td>\n",
              "      <td>6</td>\n",
              "      <td>-3.534</td>\n",
              "      <td>1</td>\n",
              "      <td>0.0364</td>\n",
              "      <td>...</td>\n",
              "      <td>0.00000</td>\n",
              "      <td>0.1240</td>\n",
              "      <td>0.305</td>\n",
              "      <td>127.983</td>\n",
              "      <td>225840</td>\n",
              "      <td>4</td>\n",
              "      <td>0.478</td>\n",
              "      <td>0.603</td>\n",
              "      <td>0.708</td>\n",
              "      <td>0.987</td>\n",
              "    </tr>\n",
              "    <tr>\n",
              "      <th>4</th>\n",
              "      <td>Noir</td>\n",
              "      <td>Around - Solomun Vox</td>\n",
              "      <td>5qA35ZZWFOqynheP5x8rty</td>\n",
              "      <td>56</td>\n",
              "      <td>0.867</td>\n",
              "      <td>0.345</td>\n",
              "      <td>1</td>\n",
              "      <td>-11.042</td>\n",
              "      <td>1</td>\n",
              "      <td>0.0768</td>\n",
              "      <td>...</td>\n",
              "      <td>0.66600</td>\n",
              "      <td>0.1030</td>\n",
              "      <td>0.259</td>\n",
              "      <td>115.000</td>\n",
              "      <td>418594</td>\n",
              "      <td>4</td>\n",
              "      <td>0.383</td>\n",
              "      <td>0.486</td>\n",
              "      <td>0.927</td>\n",
              "      <td>1.000</td>\n",
              "    </tr>\n",
              "  </tbody>\n",
              "</table>\n",
              "<p>5 rows × 21 columns</p>\n",
              "</div>\n",
              "      <button class=\"colab-df-convert\" onclick=\"convertToInteractive('df-70914dd4-7e34-4886-89c3-f2df49aed89c')\"\n",
              "              title=\"Convert this dataframe to an interactive table.\"\n",
              "              style=\"display:none;\">\n",
              "        \n",
              "  <svg xmlns=\"http://www.w3.org/2000/svg\" height=\"24px\"viewBox=\"0 0 24 24\"\n",
              "       width=\"24px\">\n",
              "    <path d=\"M0 0h24v24H0V0z\" fill=\"none\"/>\n",
              "    <path d=\"M18.56 5.44l.94 2.06.94-2.06 2.06-.94-2.06-.94-.94-2.06-.94 2.06-2.06.94zm-11 1L8.5 8.5l.94-2.06 2.06-.94-2.06-.94L8.5 2.5l-.94 2.06-2.06.94zm10 10l.94 2.06.94-2.06 2.06-.94-2.06-.94-.94-2.06-.94 2.06-2.06.94z\"/><path d=\"M17.41 7.96l-1.37-1.37c-.4-.4-.92-.59-1.43-.59-.52 0-1.04.2-1.43.59L10.3 9.45l-7.72 7.72c-.78.78-.78 2.05 0 2.83L4 21.41c.39.39.9.59 1.41.59.51 0 1.02-.2 1.41-.59l7.78-7.78 2.81-2.81c.8-.78.8-2.07 0-2.86zM5.41 20L4 18.59l7.72-7.72 1.47 1.35L5.41 20z\"/>\n",
              "  </svg>\n",
              "      </button>\n",
              "      \n",
              "  <style>\n",
              "    .colab-df-container {\n",
              "      display:flex;\n",
              "      flex-wrap:wrap;\n",
              "      gap: 12px;\n",
              "    }\n",
              "\n",
              "    .colab-df-convert {\n",
              "      background-color: #E8F0FE;\n",
              "      border: none;\n",
              "      border-radius: 50%;\n",
              "      cursor: pointer;\n",
              "      display: none;\n",
              "      fill: #1967D2;\n",
              "      height: 32px;\n",
              "      padding: 0 0 0 0;\n",
              "      width: 32px;\n",
              "    }\n",
              "\n",
              "    .colab-df-convert:hover {\n",
              "      background-color: #E2EBFA;\n",
              "      box-shadow: 0px 1px 2px rgba(60, 64, 67, 0.3), 0px 1px 3px 1px rgba(60, 64, 67, 0.15);\n",
              "      fill: #174EA6;\n",
              "    }\n",
              "\n",
              "    [theme=dark] .colab-df-convert {\n",
              "      background-color: #3B4455;\n",
              "      fill: #D2E3FC;\n",
              "    }\n",
              "\n",
              "    [theme=dark] .colab-df-convert:hover {\n",
              "      background-color: #434B5C;\n",
              "      box-shadow: 0px 1px 3px 1px rgba(0, 0, 0, 0.15);\n",
              "      filter: drop-shadow(0px 1px 2px rgba(0, 0, 0, 0.3));\n",
              "      fill: #FFFFFF;\n",
              "    }\n",
              "  </style>\n",
              "\n",
              "      <script>\n",
              "        const buttonEl =\n",
              "          document.querySelector('#df-70914dd4-7e34-4886-89c3-f2df49aed89c button.colab-df-convert');\n",
              "        buttonEl.style.display =\n",
              "          google.colab.kernel.accessAllowed ? 'block' : 'none';\n",
              "\n",
              "        async function convertToInteractive(key) {\n",
              "          const element = document.querySelector('#df-70914dd4-7e34-4886-89c3-f2df49aed89c');\n",
              "          const dataTable =\n",
              "            await google.colab.kernel.invokeFunction('convertToInteractive',\n",
              "                                                     [key], {});\n",
              "          if (!dataTable) return;\n",
              "\n",
              "          const docLinkHtml = 'Like what you see? Visit the ' +\n",
              "            '<a target=\"_blank\" href=https://colab.research.google.com/notebooks/data_table.ipynb>data table notebook</a>'\n",
              "            + ' to learn more about interactive tables.';\n",
              "          element.innerHTML = '';\n",
              "          dataTable['output_type'] = 'display_data';\n",
              "          await google.colab.output.renderOutput(dataTable, element);\n",
              "          const docLink = document.createElement('div');\n",
              "          docLink.innerHTML = docLinkHtml;\n",
              "          element.appendChild(docLink);\n",
              "        }\n",
              "      </script>\n",
              "    </div>\n",
              "  </div>\n",
              "  "
            ]
          },
          "metadata": {},
          "execution_count": 54
        }
      ]
    },
    {
      "cell_type": "markdown",
      "source": [
        "Everything seems in order so we save it to csv"
      ],
      "metadata": {
        "id": "wxD3WzekzWwa"
      }
    },
    {
      "cell_type": "code",
      "source": [
        "df.to_csv('/content/drive/MyDrive/Colab Notebooks/Spotify DA/Data/SpotifyAudioFeatures05012022.csv')"
      ],
      "metadata": {
        "id": "IFMfdWXcy6gZ"
      },
      "execution_count": null,
      "outputs": []
    }
  ]
}